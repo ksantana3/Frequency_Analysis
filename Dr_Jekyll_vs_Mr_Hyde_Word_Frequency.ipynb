{
  "nbformat": 4,
  "nbformat_minor": 0,
  "metadata": {
    "colab": {
      "name": "Dr. Jekyll vs Mr. Hyde Word Frequency",
      "version": "0.3.2",
      "provenance": [],
      "collapsed_sections": [],
      "include_colab_link": true
    },
    "kernelspec": {
      "name": "python3",
      "display_name": "Python 3"
    }
  },
  "cells": [
    {
      "cell_type": "markdown",
      "metadata": {
        "id": "view-in-github",
        "colab_type": "text"
      },
      "source": [
        "<a href=\"https://colab.research.google.com/github/ksantana3/Frequency_Analysis/blob/master/Dr_Jekyll_vs_Mr_Hyde_Word_Frequency.ipynb\" target=\"_parent\"><img src=\"https://colab.research.google.com/assets/colab-badge.svg\" alt=\"Open In Colab\"/></a>"
      ]
    },
    {
      "metadata": {
        "id": "oMJL9C6x1GnR",
        "colab_type": "text"
      },
      "cell_type": "markdown",
      "source": [
        "## Dr. Jekyll vs Mr. Hyde an Analysis of Word Frequency"
      ]
    },
    {
      "metadata": {
        "id": "pYqageN91coz",
        "colab_type": "text"
      },
      "cell_type": "markdown",
      "source": [
        "While watching Thor: Ragnorak I noticed that Hulk received a large portion of screen time compared to Dr Banner.  That led me to thinking about the inspiration book  Dr. Jekyll and Mr. Hyde of which the Hulk was partially based off of.  Which led me to the question \"Who was mentioned more in the book Dr. Jekyll or Mr. Hyde\" which I will attempt to answer below."
      ]
    },
    {
      "metadata": {
        "id": "hRKXz7o2tqZ0",
        "colab_type": "code",
        "colab": {}
      },
      "cell_type": "code",
      "source": [
        "# Importing requests, BeautifulSoup and nltk\n",
        "import requests\n",
        "import nltk\n",
        "from nltk.corpus import stopwords\n",
        "from bs4 import BeautifulSoup"
      ],
      "execution_count": 0,
      "outputs": []
    },
    {
      "metadata": {
        "id": "2Vt7FYhj5RGr",
        "colab_type": "text"
      },
      "cell_type": "markdown",
      "source": [
        "First, I acquired the book which is available to be read online at Project Gutenberg and titled 'The Strange Case Of Dr. Jekyll And Mr. Hyde' , by Robert Louis Stevenson"
      ]
    },
    {
      "metadata": {
        "id": "5Ep2tXBXt6Ns",
        "colab_type": "code",
        "outputId": "9ae6ca7e-d19e-4102-ab39-7558e25be670",
        "colab": {
          "base_uri": "https://localhost:8080/",
          "height": 605
        }
      },
      "cell_type": "code",
      "source": [
        "# Requesting The Strange Case Of Dr. Jekyll And Mr. Hyde in HTML \n",
        "r = requests.get('http://www.gutenberg.org/files/43/43-h/43-h.htm')\n",
        "\n",
        "# Setting the correct text encoding of the HTML page\n",
        "r.encoding = 'utf-8'\n",
        "\n",
        "# Extracting the HTML from the request object\n",
        "html = r.text\n",
        "\n",
        "# Printing the first 1000 characters of html file\n",
        "print(html[0:999])"
      ],
      "execution_count": 0,
      "outputs": [
        {
          "output_type": "stream",
          "text": [
            "<!DOCTYPE html PUBLIC \"-//W3C//DTD XHTML 1.0 Strict//EN\"\r\n",
            "\"http://www.w3.org/TR/xhtml1/DTD/xhtml1-strict.dtd\">\r\n",
            "<html xmlns=\"http://www.w3.org/1999/xhtml\" xml:lang=\"en\" lang=\"en\">\r\n",
            "<head>\r\n",
            "<meta http-equiv=\"Content-Type\" content=\"text/html;charset=utf-8\" />\r\n",
            "<meta http-equiv=\"Content-Style-Type\" content=\"text/css\" />\r\n",
            "<title>The Strange Case Of Dr. Jekyll And Mr. Hyde, by Robert Louis Stevenson</title>\r\n",
            "\r\n",
            "<style type=\"text/css\">\r\n",
            "\r\n",
            "\r\n",
            "body { margin-left: 20%;\r\n",
            "       margin-right: 20%;\r\n",
            "       text-align: justify }\r\n",
            "\r\n",
            "p {text-indent: 1em;\r\n",
            "   margin-top: 0.25em;\r\n",
            "   margin-bottom: 0.25em; }\r\n",
            "\r\n",
            "h1, h2, h3, h4, h5, h6 {text-align: center; font-style: normal;\r\n",
            "font-weight: normal; line-height: 1.5; margin-top: .5em; margin-bottom:\r\n",
            ".5em;}\r\n",
            "\r\n",
            "h1 {font-size: 300%;\r\n",
            "    margin-top: 0.6em;\r\n",
            "    margin-bottom: 0.6em;\r\n",
            "    letter-spacing: 0.12em;\r\n",
            "    word-spacing: 0.2em;\r\n",
            "    text-indent: 0em;}\r\n",
            "h2 {font-size: 175%;}\r\n",
            "h3 {font-size: 150%;}\r\n",
            "h4 {font-size: 120%;}\r\n",
            "h5 {font-size: 110%;}\r\n",
            "\r\n",
            "p.rig\n"
          ],
          "name": "stdout"
        }
      ]
    },
    {
      "metadata": {
        "id": "UWuIxtunuciz",
        "colab_type": "code",
        "colab": {}
      },
      "cell_type": "code",
      "source": [
        "\n",
        "# Creating a soup object from the HTML and retrieving the text from the soup object.\n",
        "soup = BeautifulSoup(html, 'html.parser')\n",
        "text = soup.get_text()\n"
      ],
      "execution_count": 0,
      "outputs": []
    },
    {
      "metadata": {
        "id": "6x_kL13b51Sb",
        "colab_type": "text"
      },
      "cell_type": "markdown",
      "source": [
        "I will now tokenize the text in which I will break it up into many small pieces and get rid of the white spaces."
      ]
    },
    {
      "metadata": {
        "id": "rGygwOAzvTxV",
        "colab_type": "code",
        "outputId": "1acf7eaa-6296-4a12-b4a8-8116ffc5b803",
        "colab": {
          "base_uri": "https://localhost:8080/",
          "height": 34
        }
      },
      "cell_type": "code",
      "source": [
        "# Creating a tokenizer\n",
        "tokenizer = nltk.tokenize.RegexpTokenizer('\\w+')\n",
        "\n",
        "# Tokenizing the text\n",
        "tokens = tokenizer.tokenize(text)\n",
        "\n",
        "# Printing out the first 10 words / tokens \n",
        "print(tokens[:10])"
      ],
      "execution_count": 0,
      "outputs": [
        {
          "output_type": "stream",
          "text": [
            "['The', 'Strange', 'Case', 'Of', 'Dr', 'Jekyll', 'And', 'Mr', 'Hyde', 'by']\n"
          ],
          "name": "stdout"
        }
      ]
    },
    {
      "metadata": {
        "id": "rfmuSuzL64uz",
        "colab_type": "text"
      },
      "cell_type": "markdown",
      "source": [
        "In order to match the words more accurately I will convert all the text to lowercase values."
      ]
    },
    {
      "metadata": {
        "id": "UQ_Q8qWXwm9z",
        "colab_type": "code",
        "outputId": "ffd5f429-a634-4d42-8ee4-ce4063df5a5e",
        "colab": {
          "base_uri": "https://localhost:8080/",
          "height": 34
        }
      },
      "cell_type": "code",
      "source": [
        "# A new list to hold the lowercased words\n",
        "words = []\n",
        "\n",
        "# Looping through the tokens and make them lower case\n",
        "for word in tokens:\n",
        "    words.append(word.lower())\n",
        "\n",
        "# Verifying lowercase conversion\n",
        "print(words[:10])"
      ],
      "execution_count": 0,
      "outputs": [
        {
          "output_type": "stream",
          "text": [
            "['the', 'strange', 'case', 'of', 'dr', 'jekyll', 'and', 'mr', 'hyde', 'by']\n"
          ],
          "name": "stdout"
        }
      ]
    },
    {
      "metadata": {
        "id": "Cvny0znP7Fpb",
        "colab_type": "text"
      },
      "cell_type": "markdown",
      "source": [
        "Words that don't really carry a \"value\" and tend to be the most common words of the language are called stop words.  "
      ]
    },
    {
      "metadata": {
        "id": "wO3W8JJ3wuKB",
        "colab_type": "code",
        "outputId": "da2d6611-a311-409b-8569-58767d5dc774",
        "colab": {
          "base_uri": "https://localhost:8080/",
          "height": 70
        }
      },
      "cell_type": "code",
      "source": [
        "# Importing English stop words from nltk\n",
        "sw = nltk.corpus.stopwords.words('english')\n",
        "\n",
        "# Printing out the first 10 stop words\n",
        "print(sw[:10])\n",
        "print(sw)"
      ],
      "execution_count": 0,
      "outputs": [
        {
          "output_type": "stream",
          "text": [
            "['i', 'me', 'my', 'myself', 'we', 'our', 'ours', 'ourselves', 'you', \"you're\"]\n",
            "['i', 'me', 'my', 'myself', 'we', 'our', 'ours', 'ourselves', 'you', \"you're\", \"you've\", \"you'll\", \"you'd\", 'your', 'yours', 'yourself', 'yourselves', 'he', 'him', 'his', 'himself', 'she', \"she's\", 'her', 'hers', 'herself', 'it', \"it's\", 'its', 'itself', 'they', 'them', 'their', 'theirs', 'themselves', 'what', 'which', 'who', 'whom', 'this', 'that', \"that'll\", 'these', 'those', 'am', 'is', 'are', 'was', 'were', 'be', 'been', 'being', 'have', 'has', 'had', 'having', 'do', 'does', 'did', 'doing', 'a', 'an', 'the', 'and', 'but', 'if', 'or', 'because', 'as', 'until', 'while', 'of', 'at', 'by', 'for', 'with', 'about', 'against', 'between', 'into', 'through', 'during', 'before', 'after', 'above', 'below', 'to', 'from', 'up', 'down', 'in', 'out', 'on', 'off', 'over', 'under', 'again', 'further', 'then', 'once', 'here', 'there', 'when', 'where', 'why', 'how', 'all', 'any', 'both', 'each', 'few', 'more', 'most', 'other', 'some', 'such', 'no', 'nor', 'not', 'only', 'own', 'same', 'so', 'than', 'too', 'very', 's', 't', 'can', 'will', 'just', 'don', \"don't\", 'should', \"should've\", 'now', 'd', 'll', 'm', 'o', 're', 've', 'y', 'ain', 'aren', \"aren't\", 'couldn', \"couldn't\", 'didn', \"didn't\", 'doesn', \"doesn't\", 'hadn', \"hadn't\", 'hasn', \"hasn't\", 'haven', \"haven't\", 'isn', \"isn't\", 'ma', 'mightn', \"mightn't\", 'mustn', \"mustn't\", 'needn', \"needn't\", 'shan', \"shan't\", 'shouldn', \"shouldn't\", 'wasn', \"wasn't\", 'weren', \"weren't\", 'won', \"won't\", 'wouldn', \"wouldn't\"]\n"
          ],
          "name": "stdout"
        }
      ]
    },
    {
      "metadata": {
        "id": "GvkkhdW2wyt0",
        "colab_type": "code",
        "outputId": "ee5a6034-44cb-411e-99fa-ede6b92981b9",
        "colab": {
          "base_uri": "https://localhost:8080/",
          "height": 34
        }
      },
      "cell_type": "code",
      "source": [
        "# A new list to hold the text with No Stop words\n",
        "words_ns = []\n",
        "\n",
        "# Appending to words_ns all words that are in words but not in sw\n",
        "for word in words:\n",
        "    if word not in sw:\n",
        "        words_ns.append(word)\n",
        "\n",
        "# Verifying that the stop words are gone\n",
        "print(words_ns[:10])"
      ],
      "execution_count": 0,
      "outputs": [
        {
          "output_type": "stream",
          "text": [
            "['strange', 'case', 'dr', 'jekyll', 'mr', 'hyde', 'robert', 'louis', 'stevenson', 'body']\n"
          ],
          "name": "stdout"
        }
      ]
    },
    {
      "metadata": {
        "id": "mgsFoVhK_q28",
        "colab_type": "text"
      },
      "cell_type": "markdown",
      "source": [
        "I will now plot the words_ns using a frequency distribution chart see if Dr. Jekyll and Mr. Hyde are among the most used words."
      ]
    },
    {
      "metadata": {
        "id": "YTYsCYKaxuRm",
        "colab_type": "code",
        "outputId": "b048b290-6792-4b9c-b50c-ba23eb389f7b",
        "colab": {
          "base_uri": "https://localhost:8080/",
          "height": 314
        }
      },
      "cell_type": "code",
      "source": [
        "# This command display figures inline\n",
        "%matplotlib inline\n",
        "\n",
        "# Creating the word frequency distribution\n",
        "freqdist = nltk.FreqDist(words_ns)\n",
        "\n",
        "# Plotting the word frequency distribution\n",
        "freqdist.plot(25)"
      ],
      "execution_count": 0,
      "outputs": [
        {
          "output_type": "display_data",
          "data": {
            "image/png": "[encoded data removed]",
            "text/plain": [
              "<Figure size 432x288 with 1 Axes>"
            ]
          },
          "metadata": {
            "tags": []
          }
        }
      ]
    },
    {
      "metadata": {
        "id": "REZ1DY9r-C_v",
        "colab_type": "text"
      },
      "cell_type": "markdown",
      "source": [
        " Who was mentioned more in the book Dr. Jekyll or Mr. Hyde?\n",
        " \n",
        "It appears that Dr Jekyll and Mr Hyde tied for numbers of mentions in the book at 105.  This was a suprise for me as I was expecting a clear winner.  I verified this within the book to make sure that there was separation between the two names throughout the book and found a noticable separation."
      ]
    },
    {
      "metadata": {
        "id": "u0Ko3eeUAemr",
        "colab_type": "code",
        "colab": {}
      },
      "cell_type": "code",
      "source": [
        ""
      ],
      "execution_count": 0,
      "outputs": []
    }
  ]
}